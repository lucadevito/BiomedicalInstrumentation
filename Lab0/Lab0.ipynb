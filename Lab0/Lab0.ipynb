{
 "cells": [
  {
   "cell_type": "markdown",
   "metadata": {},
   "source": [
    "# Lab 0: Python basics for signal and data analysis"
   ]
  },
  {
   "cell_type": "markdown",
   "metadata": {},
   "source": [
    "Python is an interpreted programming language, which, thanks to the developed extensions, allows to easily carry out linear algebra and signal processing tasks."
   ]
  },
  {
   "cell_type": "markdown",
   "metadata": {},
   "source": [
    "## Python terminal as a calculator"
   ]
  },
  {
   "cell_type": "markdown",
   "metadata": {},
   "source": [
    "The Python terminal can execute easily commands by writing an expression on a row and terminating the row with the Enter key. The simpler expression is a purely numerical expression. In this way, Python will act as a simple calculator.\n",
    "In the following code you will find an example, that you can run on your computer, by selecting the cell containing the code and sending the combination Shift + Enter. The result will be shown below the expression."
   ]
  },
  {
   "cell_type": "code",
   "execution_count": null,
   "metadata": {},
   "outputs": [],
   "source": [
    "10 - (3 + 4)"
   ]
  },
  {
   "cell_type": "markdown",
   "metadata": {},
   "source": [
    "Some Python functions are not included in the basic set, but it is necessary to import some modules. To do it, it is necessary to use the following line, before to use them:"
   ]
  },
  {
   "cell_type": "raw",
   "metadata": {},
   "source": [
    "import <module_name>"
   ]
  },
  {
   "cell_type": "markdown",
   "metadata": {},
   "source": [
    "The operations contained in a specific module will be indicated with the notation <module_name>.<function_name>. For such functions, it is necessary to import the corresponding module. \n",
    "We will use the following modules:\n",
    "- numpy: for linear algebra;\n",
    "- scipy: for signal processing;\n",
    "- matplotlib: for plotting.\n",
    "\n",
    "Basic operations on numbers:\n",
    "\n",
    "|Operation             | Expression    |\n",
    "|:-----|:-----|\n",
    "| elevation to power:  | ** |\n",
    "| square root:         | numpy.sqrt()  |\n",
    "| natural logarithm:   | numpy.log()   |\n",
    "| base 10 logarithm:   | numpy.log10() |\n",
    "| base 2 logarithm:    | numpy.log2()  |\n",
    "| exponential:         | numpy.exp()   | \n",
    "| absolute value:      | abs()        |\n",
    "| sine:                 | numpy.sin()   |\n",
    "| cosine:               | numpy.cos()   |\n",
    "\n",
    "The number $\\pi$ is indicated with numpy.pi"
   ]
  },
  {
   "cell_type": "markdown",
   "metadata": {},
   "source": [
    "## Data types"
   ]
  },
  {
   "cell_type": "markdown",
   "metadata": {},
   "source": [
    "When we use a number, Python associates to that number a type according to the way the number is written. As an example, a number written without a decimal point will be interpreted as an integer. A number written with the decimal point or in scientific format will be interpreted as a floating point."
   ]
  },
  {
   "cell_type": "code",
   "execution_count": null,
   "metadata": {},
   "outputs": [],
   "source": [
    "a = 10\n",
    "type(a)"
   ]
  },
  {
   "cell_type": "code",
   "execution_count": null,
   "metadata": {},
   "outputs": [],
   "source": [
    "b = 1.3\n",
    "type(b)"
   ]
  },
  {
   "cell_type": "code",
   "execution_count": null,
   "metadata": {},
   "outputs": [],
   "source": [
    "c = 1e-4\n",
    "type(c)"
   ]
  },
  {
   "cell_type": "markdown",
   "metadata": {},
   "source": [
    "We can change type using functions int() and float():"
   ]
  },
  {
   "cell_type": "code",
   "execution_count": null,
   "metadata": {},
   "outputs": [],
   "source": [
    "a = 10\n",
    "b = float(a)\n",
    "type(b)"
   ]
  },
  {
   "cell_type": "code",
   "execution_count": null,
   "metadata": {},
   "outputs": [],
   "source": [
    "c = 10.0\n",
    "d = int(c)\n",
    "type(d)"
   ]
  },
  {
   "cell_type": "markdown",
   "metadata": {},
   "source": [
    "## Arrays"
   ]
  },
  {
   "cell_type": "markdown",
   "metadata": {},
   "source": [
    "### Definition of arrays\n",
    "To make computations on arrays, we will use the array class of the numpy module. We can define an array by passing the elements to the array function. We can define a vector as a 1-D array or as a 2-D matrix with one null dimension. This second option is necessary to execute operation between matrices and vectors."
   ]
  },
  {
   "cell_type": "code",
   "execution_count": null,
   "metadata": {},
   "outputs": [],
   "source": [
    "import numpy as np # imports the numpy module, which we will call np\n",
    "a = np.array([1, 2, 3])       # vector (1-D array)\n",
    "print('a=', a)\n",
    "b = np.array([[1, 2, 3]])     # row vector\n",
    "print('b=', b)\n",
    "c = np.array([[1], [2], [3]]) # column vector\n",
    "print('c=', c)\n",
    "ar = np.array(a)[np.newaxis,:] # converts a vector (1-D array) to a 2-D row array\n",
    "print('ar=', ar)\n",
    "ac = np.array(a)[:,np.newaxis] # converts a vector (1-D array) to a 2-D column array\n",
    "print('ac=', ac)\n",
    "A = np.array([[1, 2, 3],[4, 5, 6]]) # matrix\n",
    "print('A=', A)"
   ]
  },
  {
   "cell_type": "markdown",
   "metadata": {},
   "source": [
    "It is possible to define vectors or matrices with all elements equal to 0 or 1 with functions zeros e ones, respectively, where M is the number of rows and N is the number of columns."
   ]
  },
  {
   "cell_type": "code",
   "execution_count": null,
   "metadata": {},
   "outputs": [],
   "source": [
    "a = np.zeros( (1,5) ) # row vector of 5 elements all 0\n",
    "print('a=', a)\n",
    "b = np.zeros( (5,1) ) # column vector of 5 elements all 0\n",
    "print('b=', b)\n",
    "c = np.ones( (1,5) )  # row vector of 5 elements all 1\n",
    "print('c=', c)\n",
    "d = np.ones( (5,1) )  # column vector of 5 elements all 1\n",
    "print('d=', d)\n",
    "A = np.zeros( (2,3) ) # 2x3 matrix of elements all 0\n",
    "print('A=', A)\n",
    "B = np.ones( (2,3) )  # 2x3 matrix of elements all 1\n",
    "print('B=', B)"
   ]
  },
  {
   "cell_type": "markdown",
   "metadata": {},
   "source": [
    "We can define the identity matrix with the function identity(N), where N is the matrix size (the identity matrix is a square matrix)"
   ]
  },
  {
   "cell_type": "code",
   "execution_count": null,
   "metadata": {},
   "outputs": [],
   "source": [
    "I = np.identity(3) # 3x3 identity matrix\n",
    "print(I)"
   ]
  },
  {
   "cell_type": "markdown",
   "metadata": {},
   "source": [
    "An interval is a vector of equally spaced elements. We can define it as:"
   ]
  },
  {
   "cell_type": "code",
   "execution_count": null,
   "metadata": {},
   "outputs": [],
   "source": [
    "n = np.arange(0,10,0.2)\n",
    "print(n)"
   ]
  },
  {
   "cell_type": "markdown",
   "metadata": {},
   "source": [
    "where the first argument is the first element, the second argument defines the last element and the third argument defines the increment between two elements."
   ]
  },
  {
   "cell_type": "markdown",
   "metadata": {},
   "source": [
    "### Array indexing\n",
    "To index an element of an array, we can use the square brackets. The array indexing in Python starts from 0. Therefore, to access the third element of the a vector, we have to write a[2]. Similarly, we can access the elements of a matrix as follows:"
   ]
  },
  {
   "cell_type": "code",
   "execution_count": null,
   "metadata": {},
   "outputs": [],
   "source": [
    "a = np.array([1, 2, 3, 4, 5, 6, 7, 8, 9])\n",
    "print('a[2]=', a[2])     # third element of a\n",
    "A = np.array([[1, 2, 3],[4, 5, 6],[7, 8, 9]])\n",
    "print('A[0][1]=',A[0,1]) # element of A in position 1,2"
   ]
  },
  {
   "cell_type": "markdown",
   "metadata": {},
   "source": [
    "We can access a subarray by indexing with an array:"
   ]
  },
  {
   "cell_type": "code",
   "execution_count": null,
   "metadata": {},
   "outputs": [],
   "source": [
    "print('a[2:5]=', a[2:5]) # elements at positions 3, 4 e 5 (first index is included, second index is excluded)\n",
    "print('A[0:2][:]=', A[0:2,0:2])\n",
    "print('a[[0, 2, 4]]=',a[[0, 2, 4]])"
   ]
  },
  {
   "cell_type": "markdown",
   "metadata": {},
   "source": [
    "### Array concatenation"
   ]
  },
  {
   "cell_type": "markdown",
   "metadata": {},
   "source": [
    "We can concatenate arrays as follows:"
   ]
  },
  {
   "cell_type": "code",
   "execution_count": null,
   "metadata": {},
   "outputs": [],
   "source": [
    "A = np.array([[1, 2, 3],[4, 5, 6]])\n",
    "B = np.array([[2, 3, 4],[5, 6, 7]])\n",
    "C = np.concatenate((A,B)) \n",
    "print('C=',C)\n",
    "D = np.concatenate((A,B),axis=1) \n",
    "print('D=',D)"
   ]
  },
  {
   "cell_type": "markdown",
   "metadata": {},
   "source": [
    "### Operations on arrays\n",
    "For arrays defined with numpy, we can use operators + and - to execute sum and difference between arrays."
   ]
  },
  {
   "cell_type": "code",
   "execution_count": null,
   "metadata": {},
   "outputs": [],
   "source": [
    "A = np.array([[1, 2, 3],[4, 5, 6]])\n",
    "B = np.array([[2, 3, 4],[5, 6, 7]])\n",
    "C = A + B\n",
    "print('C=',C)\n",
    "D = B - A\n",
    "print('D=',D)"
   ]
  },
  {
   "cell_type": "markdown",
   "metadata": {},
   "source": [
    "The matrix product (row by column) can be executed using the method dot() or the operator @:"
   ]
  },
  {
   "cell_type": "code",
   "execution_count": null,
   "metadata": {},
   "outputs": [],
   "source": [
    "A = np.array([[1, 2, 3],[4, 5, 6]])\n",
    "B = np.array([[1, 2],[3, 4], [5, 6]])\n",
    "M = A.dot(B)\n",
    "M = A@B\n",
    "print('M=',M)"
   ]
  },
  {
   "cell_type": "markdown",
   "metadata": {},
   "source": [
    "We can do the element-wise multiplication of two arrays. For this we can use the multiply function or the operator *. In this case, the number of rows and columns of the two arrays must be the same."
   ]
  },
  {
   "cell_type": "code",
   "execution_count": null,
   "metadata": {},
   "outputs": [],
   "source": [
    "A = np.array([[1, 2, 3],[4, 5, 6]])\n",
    "B = np.array([[2, 3, 4],[5, 6, 7]])\n",
    "M = np.multiply(A,B)\n",
    "M = A*B\n",
    "print('M=',M)"
   ]
  },
  {
   "cell_type": "markdown",
   "metadata": {},
   "source": [
    "The matrix transpose can be done with the method T, the hermitian transpose with the method H."
   ]
  },
  {
   "cell_type": "code",
   "execution_count": null,
   "metadata": {},
   "outputs": [],
   "source": [
    "A = np.array([[1, 2, 3],[4, 5, 6]])\n",
    "B = A.T\n",
    "print('B=',B)\n",
    "A = np.array([[1 + 1j, 2, 3],[4, 5, 6+3j]])\n",
    "B = A.T\n",
    "print('B=',B)"
   ]
  },
  {
   "cell_type": "markdown",
   "metadata": {},
   "source": [
    "The inverse of a matrix can be done with numpy.linalg.inv:"
   ]
  },
  {
   "cell_type": "code",
   "execution_count": null,
   "metadata": {},
   "outputs": [],
   "source": [
    "A = np.array([[1, 2],[3, 4]])\n",
    "B = np.linalg.inv(A)\n",
    "print('B=',B)"
   ]
  },
  {
   "cell_type": "markdown",
   "metadata": {},
   "source": [
    "We can do the sum of the elements of an array or the sum of the elements on the rows (or the columns) with the function sum:"
   ]
  },
  {
   "cell_type": "code",
   "execution_count": null,
   "metadata": {},
   "outputs": [],
   "source": [
    "a = np.array([1, 2, 3, 4, 5, 6])\n",
    "print('np.sum(a): ', np.sum(a))\n",
    "A = np.array([[1, 2, 3],[4, 5, 6]])\n",
    "print('np.sum(A,axis=0): ', np.sum(A,axis=0))\n",
    "print('np.sum(A,axis=1): ', np.sum(A,axis=1))"
   ]
  },
  {
   "cell_type": "markdown",
   "metadata": {},
   "source": [
    "The function len returns the length of an array. To know the number of rows and columns we can use the method shape:"
   ]
  },
  {
   "cell_type": "code",
   "execution_count": null,
   "metadata": {},
   "outputs": [],
   "source": [
    "print('len(a)=',len(a))\n",
    "print('A.shape=',A.shape)"
   ]
  },
  {
   "cell_type": "markdown",
   "metadata": {},
   "source": [
    "## Complex numbers"
   ]
  },
  {
   "cell_type": "markdown",
   "metadata": {},
   "source": [
    "The immaginary unit is indicated with 1j. The complex numbers are indicated simply as a sum or difference of a real number and of an imaginary number:"
   ]
  },
  {
   "cell_type": "code",
   "execution_count": null,
   "metadata": {},
   "outputs": [],
   "source": [
    "c = 3 + 4j\n",
    "print(c)"
   ]
  },
  {
   "cell_type": "markdown",
   "metadata": {},
   "source": [
    "The real part and the imaginary part are obtained by the methods real and imag, respectively:"
   ]
  },
  {
   "cell_type": "code",
   "execution_count": null,
   "metadata": {},
   "outputs": [],
   "source": [
    "print('c.real=',c.real)\n",
    "print('c.imag=',c.imag)"
   ]
  },
  {
   "cell_type": "markdown",
   "metadata": {},
   "source": [
    "The magnitude and phase are obtained by the functions abs and angle, respetively (angle returns the angle in radians):"
   ]
  },
  {
   "cell_type": "code",
   "execution_count": null,
   "metadata": {},
   "outputs": [],
   "source": [
    "print('np.abs(c)=',np.abs(c))\n",
    "print('np.angle(c)=',np.angle(c))"
   ]
  },
  {
   "cell_type": "markdown",
   "metadata": {},
   "source": [
    "The complex conjugate of a complex number is specified with the method conjugate:"
   ]
  },
  {
   "cell_type": "code",
   "execution_count": null,
   "metadata": {},
   "outputs": [],
   "source": [
    "print('c.conjugate()=',c.conjugate())"
   ]
  },
  {
   "cell_type": "markdown",
   "metadata": {},
   "source": [
    "## Python programming structures"
   ]
  },
  {
   "cell_type": "markdown",
   "metadata": {},
   "source": [
    "### Script and modules"
   ]
  },
  {
   "cell_type": "markdown",
   "metadata": {},
   "source": [
    "Although it is possible to write functions directly within the Python interactive terminal, when it is necessary to execute several instructions, we can collect them into a script or module.\n",
    "A script is a file with a sequence of instructions which are executed every time the script is called. The script must be saved with expention .py.\n",
    "When we want to write a bigger and more organized program (which is not convenient to contain in a single script), we must create a module.\n",
    "A module is a set of functions, each defined with the keyword def. As an example, this could be the content of a module demo.py.  You can copy this code to a text file, that you will save (in the folder of this notebook) with name demo.py."
   ]
  },
  {
   "cell_type": "raw",
   "metadata": {},
   "source": [
    "\"A demo module.\"\n",
    "def print_b():\n",
    "    \"Prints b.\"\n",
    "    print('b')\n",
    "def print_a():\n",
    "    \"Prints a.\"\n",
    "    print('a')\n",
    "c = 2\n",
    "d = 2"
   ]
  },
  {
   "cell_type": "markdown",
   "metadata": {},
   "source": [
    "We have to note that the indentation of the instructions contained in the function is mandatory, because Python recognize such instructions as belonging to the function.\n",
    "In this file, the two functions print_a and print_b are defined. If we want to call the function print_a, we have to import the module and then call the function:"
   ]
  },
  {
   "cell_type": "code",
   "execution_count": null,
   "metadata": {},
   "outputs": [],
   "source": [
    "import demo\n",
    "demo.print_a()\n",
    "demo.print_b()"
   ]
  },
  {
   "cell_type": "markdown",
   "metadata": {},
   "source": [
    "### Control structures"
   ]
  },
  {
   "cell_type": "markdown",
   "metadata": {},
   "source": [
    "A conditional operation is written with the keywords if: ... elif: ... else: ..."
   ]
  },
  {
   "cell_type": "raw",
   "metadata": {},
   "source": [
    "if condition1:\n",
    "    # group of instructions executed \n",
    "    # if condition1 is true\n",
    "elif condition2:\n",
    "    # group of instructions executed \n",
    "    # if condition2 is true\n",
    "elif conditionN:\n",
    "    # group of instructions executed \n",
    "    # if conditionN is true\n",
    "else:\n",
    "    # group of instructions executed \n",
    "    # if all conditions are false"
   ]
  },
  {
   "cell_type": "markdown",
   "metadata": {},
   "source": [
    "Also in this case the indentation is mandatory to specify that an instruction is referred to a specific group.<br>\n",
    "The for loop is written as:"
   ]
  },
  {
   "cell_type": "raw",
   "metadata": {},
   "source": [
    "for x in range(6):\n",
    "    instruction1\n",
    "    instruction2"
   ]
  },
  {
   "cell_type": "markdown",
   "metadata": {},
   "source": [
    "The previous loop is executed for values of x ranging from 0 to 5, 6 is excluded.<br>\n",
    "The while loop is written as:"
   ]
  },
  {
   "cell_type": "raw",
   "metadata": {},
   "source": [
    "while condition:\n",
    "    instruction1\n",
    "    instruction2"
   ]
  },
  {
   "cell_type": "markdown",
   "metadata": {},
   "source": [
    "## Statistical functions"
   ]
  },
  {
   "cell_type": "markdown",
   "metadata": {},
   "source": [
    "We can define a vector (or a matrix) of elements drawn randomly from a statistical distribution. In particular:\n",
    "- numpy.random.rand allows genrating a vector of random numbers with uniform distribution between 0 and 1\n",
    "- numpy.random.randn allows to generate a vector of random numbers with normal distribution (Gaussian with null mean and unitary variance)"
   ]
  },
  {
   "cell_type": "code",
   "execution_count": null,
   "metadata": {},
   "outputs": [],
   "source": [
    "a = np.random.rand(2,3) # generates a 2x3 matrix of random numbers drawn from a uniform distribution between 0 and 1\n",
    "print('a=',a)\n",
    "b = np.random.randn(2,3) # generates a 2x3 matrix of random numbers drawn from a normal distribution\n",
    "print('b=',b)"
   ]
  },
  {
   "cell_type": "markdown",
   "metadata": {},
   "source": [
    "To modify the parameters of such distributions, we can multiply the array elements by the adequate values.<br>\n",
    "As an example, to generate a matrix of elements drawn from a uniform distribution between -1 and 1, we can multiply the elements returned by rand by 2 and then subtract 1:"
   ]
  },
  {
   "cell_type": "code",
   "execution_count": null,
   "metadata": {},
   "outputs": [],
   "source": [
    "a = 2*np.random.rand(2,3) - 1\n",
    "print('a=',a)"
   ]
  },
  {
   "cell_type": "markdown",
   "metadata": {},
   "source": [
    "Similarly, to generate a matrix of elements drawn from a Gaussian distribution, with mean 3 and standard deviation 2, we can multiply the values returned by randn by 2 and add 3:"
   ]
  },
  {
   "cell_type": "code",
   "execution_count": null,
   "metadata": {},
   "outputs": [],
   "source": [
    "b = 2*np.random.randn(2,3) + 3\n",
    "print('b=',b)"
   ]
  },
  {
   "cell_type": "markdown",
   "metadata": {},
   "source": [
    "We can evaluate the average, standard deviation and variance with functions mean, std and var, respectively:"
   ]
  },
  {
   "cell_type": "code",
   "execution_count": null,
   "metadata": {},
   "outputs": [],
   "source": [
    "b = 3 + 2*np.random.randn(1000,1);\n",
    "print('np.mean(b)=',np.mean(b))\n",
    "print('np.std(b)=',np.std(b))\n",
    "print('np.var(b)=',np.var(b))"
   ]
  },
  {
   "cell_type": "markdown",
   "metadata": {},
   "source": [
    "When evaluated on matrices, the previous functions act similarly to the sum function. It is necessary, therefore, to specify the dimension over which the function is executed with the axis argument."
   ]
  },
  {
   "cell_type": "markdown",
   "metadata": {},
   "source": [
    "E' possibile calcolare l'istogramma dei We can evaluate the histogram of the values contained in an array by the histogram function."
   ]
  },
  {
   "cell_type": "code",
   "execution_count": null,
   "metadata": {},
   "outputs": [],
   "source": [
    "h, bin_edges = np.histogram(b)\n",
    "print(h)"
   ]
  },
  {
   "cell_type": "markdown",
   "metadata": {},
   "source": [
    "histogram returns a vector of the occurrences and the class boundaries. As second argument, we can specify the number of classes  or a vector containing the class boundaries."
   ]
  },
  {
   "cell_type": "markdown",
   "metadata": {},
   "source": [
    "## Signal generation and display"
   ]
  },
  {
   "cell_type": "markdown",
   "metadata": {},
   "source": [
    "A digital signal can be represented as a vector whose elements are the samples. As an example, we can generate a sinewave as:"
   ]
  },
  {
   "cell_type": "code",
   "execution_count": null,
   "metadata": {},
   "outputs": [],
   "source": [
    "Ts = 20e-6 # sampling period = 20 microseconds\n",
    "T = 2e-3   # observation window = 2 milliseconds\n",
    "f = 1e3    # frequency = 1 kHz\n",
    "t = np.arange(0,T,Ts)\n",
    "x = np.cos(2*np.pi*f*t)"
   ]
  },
  {
   "cell_type": "markdown",
   "metadata": {},
   "source": [
    "We can display the signal with the function plto of the module matplotlib. \n",
    "The first argument is the vector of the x-axis values. The second argument is the vector of y-axis values.<br>\n",
    "We can add a grid to the graph with the function grid and labels to the horizontal and vertical axes with xlabel and ylabel, respectively."
   ]
  },
  {
   "cell_type": "code",
   "execution_count": null,
   "metadata": {},
   "outputs": [],
   "source": [
    "import matplotlib.pyplot as plt\n",
    "plt.plot(t,x)\n",
    "plt.grid()\n",
    "plt.xlabel('Tempo [s]');\n",
    "plt.ylabel('Ampiezza [V]');"
   ]
  },
  {
   "cell_type": "markdown",
   "metadata": {},
   "source": [
    "We can overlap several plots:"
   ]
  },
  {
   "cell_type": "code",
   "execution_count": null,
   "metadata": {},
   "outputs": [],
   "source": [
    "y = np.sin(2*np.pi*f*t);\n",
    "plt.plot(t,x)\n",
    "plt.plot(t,y)\n",
    "plt.grid()\n",
    "plt.xlabel('Tempo [s]');\n",
    "plt.ylabel('Ampiezza [V]');"
   ]
  },
  {
   "cell_type": "markdown",
   "metadata": {},
   "source": [
    "We can simulate noise over a signal by adding to the sinewave a vector of random numbers drawn from a Gaussian distribution with null mean and a certain standard deviation:"
   ]
  },
  {
   "cell_type": "code",
   "execution_count": null,
   "metadata": {},
   "outputs": [],
   "source": [
    "n = 50e-3*np.random.randn(len(x));\n",
    "xn = x + n;\n",
    "plt.plot(t,xn)\n",
    "plt.grid()\n",
    "plt.xlabel('Tempo [s]');\n",
    "plt.ylabel('Ampiezza [V]');"
   ]
  }
 ],
 "metadata": {
  "kernelspec": {
   "display_name": "Python 3 (ipykernel)",
   "language": "python",
   "name": "python3"
  },
  "language_info": {
   "codemirror_mode": {
    "name": "ipython",
    "version": 3
   },
   "file_extension": ".py",
   "mimetype": "text/x-python",
   "name": "python",
   "nbconvert_exporter": "python",
   "pygments_lexer": "ipython3",
   "version": "3.8.8"
  }
 },
 "nbformat": 4,
 "nbformat_minor": 4
}
