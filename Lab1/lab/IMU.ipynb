{
 "cells": [
  {
   "cell_type": "markdown",
   "id": "a1815e57",
   "metadata": {},
   "source": [
    "# Lab1 \n",
    "# Acquisition of data from inertial sensors and data fusion"
   ]
  },
  {
   "cell_type": "markdown",
   "id": "55f73703",
   "metadata": {},
   "source": [
    "This lab aims to show how to simply collect data from inertial sensors, display the acquired signals and apply data fusion algorithms to estimate the orientation of the object."
   ]
  },
  {
   "cell_type": "markdown",
   "id": "94620dc0",
   "metadata": {},
   "source": [
    "We will use your smartphones to collect data. All smartphones contain an Inertial Measurement Unit, consisting of a triaxial accelerometer and triaxial gyroscope. Most smartphone have also a triaxial magnetometer."
   ]
  },
  {
   "cell_type": "markdown",
   "id": "f9c215a4",
   "metadata": {},
   "source": [
    "## Data acquisition from smartphone sensors"
   ]
  },
  {
   "cell_type": "markdown",
   "id": "0341e21d",
   "metadata": {},
   "source": [
    "There are several apps for extracting data from smartphone sensors. We will use PhyPhox, which is an app developed from Aachen University for physics labs. Phyphox is available on Google Play Store or Apple App Store at the following address: \n",
    "\n",
    "- [PhyPhox on Google Play Store](https://play.google.com/store/apps/details?id=de.rwth_aachen.phyphox)\n",
    "- [PhyPhox on Apple App Store](https://apps.apple.com/it/app/phyphox/id1127319693)\n",
    "\n",
    "You can download the app by clicking on the above links or searching PhyPhox in your store.\n",
    "Once you have downloaded the app, and you open it, the following screen appears:"
   ]
  },
  {
   "cell_type": "markdown",
   "id": "315d207b",
   "metadata": {},
   "source": [
    "<img src=\"PhyPhoxScreen_en.png\" width=\"300\"/>"
   ]
  },
  {
   "cell_type": "markdown",
   "id": "f9440b6b",
   "metadata": {},
   "source": [
    "As you can see, the initial screen contains some predefined physics experiment, that you can use to acquire data from the several sensors of the smartphone. For example there are experiments getting data from the accelerometer (*Acceleration with g*) or (*Acceleration without g*) or from the gyroscope (*Gyroscope (rotation rate)*). In my smartphone there is no magnetometer, so magnetometer experiment is grayed."
   ]
  },
  {
   "cell_type": "markdown",
   "id": "99ec4df6",
   "metadata": {},
   "source": [
    "You can start acquiring data by clicking on one experiment (e.g. we can try *Acceleration with g*). The following screen appears:"
   ]
  },
  {
   "cell_type": "markdown",
   "id": "160afc13",
   "metadata": {},
   "source": [
    "<img src=\"PhyPhoxAccel_en.png\" width=\"300\"/>"
   ]
  },
  {
   "cell_type": "markdown",
   "id": "7902a0c6",
   "metadata": {},
   "source": [
    "To acquire data, you can click on the play button on the heading and you will see the data appearing on the graphs:"
   ]
  },
  {
   "cell_type": "markdown",
   "id": "0bce0d50",
   "metadata": {},
   "source": [
    "<img src=\"PhyPhoxAccelData_en.png\" width=\"300\"/>"
   ]
  },
  {
   "cell_type": "markdown",
   "id": "fe002e0d",
   "metadata": {},
   "source": [
    "You can stop the acquisition by clicking on the stop icon. Once you have acquired the data, you can export them by clicking on the three dots on the upper right corner and selecting *Export data*. A menu appears asking for the data format. You can use *CSV (Comma, decimal point)* and click OK. Once you click, the smartphone asks you the mean you want to use to share the file. You can use your preferred method. The easiest way is to use a cloud drive, like Google drive that you can also access from the computer. "
   ]
  },
  {
   "cell_type": "markdown",
   "id": "de4578b4",
   "metadata": {},
   "source": [
    "## Creating a custom experiment for Inertial data"
   ]
  },
  {
   "cell_type": "markdown",
   "id": "fdc1d974",
   "metadata": {},
   "source": [
    "Although there are many experiments, all the predefined experiment make use of data coming from a single sensor. In our case we need to observe simultaneously data from at least two sensors (accelerometer and gyroscope) and, if it is possible, also from the magnetometer."
   ]
  },
  {
   "cell_type": "markdown",
   "id": "f479a75e",
   "metadata": {},
   "source": [
    "Therefore, we need to create our own experiment. This can be done from the initial screen, clicking on the plus sign in the lower right corner."
   ]
  },
  {
   "cell_type": "markdown",
   "id": "ed8273aa",
   "metadata": {},
   "source": [
    "After clicking you should choose *Add simple experiment*"
   ]
  },
  {
   "cell_type": "markdown",
   "id": "14f5f1e2",
   "metadata": {},
   "source": [
    "In the next screen, you will be asked to add a title to your experiment. You can call it *IMU*. Then you should pecify the sensor rate. You can leave here 0 to use the fastest available. Finally, you should add the sensor you need in this experiment. You can select *Accelerometer*, *Gyroscope*, and, if available, *Magnetometer* and click *OK*"
   ]
  },
  {
   "cell_type": "markdown",
   "id": "c5620b62",
   "metadata": {},
   "source": [
    "Once clicked, a new screen appears with the newly created experiment. You can see that it contains as many tabs as the number of sensors you selected (see Figure below)."
   ]
  },
  {
   "cell_type": "markdown",
   "id": "264a8c4a",
   "metadata": {},
   "source": [
    "<img src=\"PhyPhoxIMUScreen_en.png\" width=\"300\"/>"
   ]
  },
  {
   "cell_type": "markdown",
   "id": "757f0405",
   "metadata": {},
   "source": [
    "## Run your experiment"
   ]
  },
  {
   "cell_type": "markdown",
   "id": "d5885d3c",
   "metadata": {},
   "source": [
    "At this point you can start your experiment. You should start the acquisition and then move your smartphone in some predefined oriantation you can easily recognize. As an example, you can run the sequence reported in the figure below. The directions of the axes could vary depending on your smartphone. To acquire the data when you are ready to move the smartphone, you can use the *Timed run* feature of PhyPhox, by cliking on the three dots on the upper right corner and then selecting *Timed run*. There you can specify the delay of the acquisition start and the experiment duration."
   ]
  },
  {
   "cell_type": "markdown",
   "id": "982a635a",
   "metadata": {},
   "source": [
    "<img src=\"./Orientation.png\" width=\"900\"/>"
   ]
  },
  {
   "cell_type": "markdown",
   "id": "ae41ef6a",
   "metadata": {},
   "source": [
    "## Display your measurement data"
   ]
  },
  {
   "cell_type": "markdown",
   "id": "d0ae646f",
   "metadata": {},
   "source": [
    "After the execution of your experiment, export the data to CSV format. You can see that PhyPhox generates a *zip* file. Change the name to *IMU.zip* and move it to the folder of this notebook. You can then decompress it in a proper folder *IMU*. The folder should contain as many files as the number of selected sensors. Each file contains 4 columns. The first column contains the time while the other columns contains the values of the x, y, and z axes, respectively. You can also observe that the acquisition has not started simultaneously on the sensors, but looking at the time column you can see a delay. In order to ease the reading, you can remove the raws corresponding of the firstly started sensors, until you reach the starting time of the last sensor."
   ]
  },
  {
   "cell_type": "markdown",
   "id": "41d36e00",
   "metadata": {},
   "source": [
    "You can now display your data, running the code below. The code loads the CSV files and display the data of each sensor on a different subplot."
   ]
  },
  {
   "cell_type": "code",
   "execution_count": null,
   "id": "fca2d005",
   "metadata": {},
   "outputs": [],
   "source": [
    "import matplotlib.pyplot as plt\n",
    "import numpy as np\n",
    "\n",
    "# read first column from the Accelerometer file to get time, first line is discarded as it contains the column headings\n",
    "time = np.genfromtxt('IMU/Accelerometer.csv', delimiter=',')[1:,0]\n",
    "# read the data columns, first line is discarded as it contains the column headings\n",
    "accel_data = np.genfromtxt('IMU/Accelerometer.csv', delimiter=',')[1:,1:]\n",
    "gyro_data = np.genfromtxt('IMU/Gyroscope.csv', delimiter=',')[1:,1:]\n",
    "# you can add the following line if you have magnetometer data\n",
    "# mag_data = np.genfromtxt('IMU/Magnetometer.csv', delimiter=',')[1:,1:] \n",
    "\n",
    "# stacked plots with shared x values\n",
    "fig, axs =plt.subplots(nrows=2,ncols=1, sharex=True) # you can use nrows=3 if you have the magnetometer\n",
    "fig.set_figheight(8)\n",
    "fig.set_figwidth(12)\n",
    "acclines = axs[0].plot(time,accel_data)\n",
    "acclines[0].set_label('x')\n",
    "acclines[1].set_label('y')\n",
    "acclines[2].set_label('z')\n",
    "axs[0].legend()\n",
    "axs[0].grid()\n",
    "axs[0].set_ylabel('Acceleration [m/s^2]')\n",
    "gyrlines = axs[1].plot(time,gyro_data)\n",
    "gyrlines[0].set_label('x')\n",
    "gyrlines[1].set_label('y')\n",
    "gyrlines[2].set_label('z')\n",
    "axs[1].legend()\n",
    "axs[1].grid()\n",
    "axs[1].set_ylabel('Angular rate [rad/s]')\n",
    "# you can add the following line if you have magnetometer data\n",
    "# axs[2].plot(time,mag_data)\n",
    "# axs[2].grid()\n",
    "# axs[2].set_ylabel('Magnetic field [uT]')\n",
    "axs[1].set_xlabel('Time [s]') # Change index to 2 if there is magnetometer data"
   ]
  },
  {
   "cell_type": "markdown",
   "id": "5c09984d",
   "metadata": {},
   "source": [
    "## Obtain orientation from sensor data"
   ]
  },
  {
   "cell_type": "markdown",
   "id": "1a478c09",
   "metadata": {},
   "source": [
    "### Using accelerometer only"
   ]
  },
  {
   "cell_type": "markdown",
   "id": "5da0a5e1",
   "metadata": {},
   "source": [
    "We can try to obtain orientation from the sensor data. Using the accelerometer only, we can get the roll angle $\\theta$ and the pitch angle $\\phi$ with:"
   ]
  },
  {
   "cell_type": "markdown",
   "id": "c14e5faf",
   "metadata": {},
   "source": [
    "$$\\theta = \\operatorname{arctan2}(a_y,a_z)$$\n",
    "$$\\phi = \\operatorname{arctan2}\\left(-a_x, \\sqrt{a_y^2+a_z^2}\\right)$$"
   ]
  },
  {
   "cell_type": "markdown",
   "id": "a7e3a958",
   "metadata": {},
   "source": [
    "Insert the above formulas in the code below and then run the code to display the angle estimation."
   ]
  },
  {
   "cell_type": "code",
   "execution_count": null,
   "id": "bbf7a345",
   "metadata": {},
   "outputs": [],
   "source": [
    "# normalize the acceleration measurements\n",
    "accel_mag = np.sqrt(accel_data[:,0]**2 + accel_data[:,1]**2 + accel_data[:,2]**2)\n",
    "av_mag = np.mean(accel_mag)\n",
    "accel_data = accel_data/av_mag\n",
    "\n",
    "# COMPLETE THE FOLLOWING LINES\n",
    "theta = \n",
    "phi = \n",
    "#############################\n",
    "\n",
    "plt.figure()\n",
    "plt.figure(figsize=(9,6))\n",
    "line1, = plt.plot(time, theta*180/np.pi)\n",
    "line2, = plt.plot(time, phi*180/np.pi)\n",
    "line1.set_label(r'$\\theta$')\n",
    "line2.set_label(r'$\\phi$')\n",
    "plt.legend()\n",
    "plt.grid()\n",
    "plt.xlabel('Time [s]')\n",
    "plt.ylabel('Orientation [°]')"
   ]
  },
  {
   "cell_type": "markdown",
   "id": "c3966c77",
   "metadata": {},
   "source": [
    "How do data look like? Are they smooth or noisy? If noisy, what is the noise source?"
   ]
  },
  {
   "cell_type": "markdown",
   "id": "4982efd8",
   "metadata": {},
   "source": [
    "### Using gyroscope only"
   ]
  },
  {
   "cell_type": "markdown",
   "id": "44bdbf00",
   "metadata": {},
   "source": [
    "Similarly, we can get the angle estimation only by the gyroscope measurement, by integration (dead reckoning), using the following formulas:"
   ]
  },
  {
   "cell_type": "markdown",
   "id": "65ddece3",
   "metadata": {},
   "source": [
    "$$\\theta[n] = \\sum_{i=0}^n {\\omega_x[i]\\cdot \\Delta t}$$\n",
    "$$\\phi[n] = \\sum_{i=0}^n {\\omega_y[i]\\cdot \\Delta t}$$\n",
    "$$\\psi[n] = \\sum_{i=0}^n {\\omega_z[i]\\cdot \\Delta t}$$"
   ]
  },
  {
   "cell_type": "markdown",
   "id": "1eb72e38",
   "metadata": {},
   "source": [
    "where $\\omega_x$, $\\omega_y$ and $\\omega_z$ are the gyroscope measurements corresponding to the $x$-, $y$, and $z$-axis, and $\\Delta t$ is the sampling period.\n",
    "Write the above formulas in the code below to get the angle estimation using gyroscope only."
   ]
  },
  {
   "cell_type": "code",
   "execution_count": null,
   "id": "682753fb",
   "metadata": {},
   "outputs": [],
   "source": [
    "deltat = time[2] - time[1]\n",
    "\n",
    "# COMPLETE THE FOLLOWING LINES\n",
    "theta = \n",
    "phi = \n",
    "psi = \n",
    "#############################\n",
    "\n",
    "plt.figure(figsize=(9,6))\n",
    "line1, = plt.plot(time,theta)\n",
    "line2, = plt.plot(time,phi)\n",
    "line3, = plt.plot(time,psi)\n",
    "line1.set_label(r'$\\theta$')\n",
    "line2.set_label(r'$\\phi$')\n",
    "line3.set_label(r'$\\psi$')\n",
    "plt.legend()\n",
    "plt.grid()\n",
    "plt.xlabel('Time [s]')\n",
    "plt.ylabel('Orientation [°]')"
   ]
  },
  {
   "cell_type": "markdown",
   "id": "f5726cba",
   "metadata": {},
   "source": [
    "How do angles look like? Are they smooth or noisy? How steady state values are compared with the angles obtained by the accelrometer?"
   ]
  },
  {
   "cell_type": "markdown",
   "id": "4cbf7638",
   "metadata": {},
   "source": [
    "### Complementary filter"
   ]
  },
  {
   "cell_type": "markdown",
   "id": "1290d54d",
   "metadata": {},
   "source": [
    "Sensor fusion can be used to improve the angle estimation, by combining the estimations obtained by the accelerometer and the gyroscope. The easiest sensor fusion method is the complementary filter. Its scheme is reported in the following figure:"
   ]
  },
  {
   "cell_type": "markdown",
   "id": "5455cc32",
   "metadata": {},
   "source": [
    "<img src=\"ComplementaryFilter.png\" width=\"600px\"/>"
   ]
  },
  {
   "cell_type": "markdown",
   "id": "da9f15ac",
   "metadata": {},
   "source": [
    "For the filters, we can use first-order filters. They have the following transfer functions:"
   ]
  },
  {
   "cell_type": "markdown",
   "id": "d1084a58",
   "metadata": {},
   "source": [
    "<table>\n",
    "    <tr>\n",
    "        <td>Low-pass filter:</td><td>$H_{LP}(s)=\\dfrac{1}{1+s\\tau}$,</td>\n",
    "        <td>Highpass filter:</td><td>$H_{HP}(s)=\\dfrac{s\\tau}{1+s\\tau}$</td>\n",
    "    </tr>\n",
    "</table>"
   ]
  },
  {
   "cell_type": "markdown",
   "id": "50dee5f9",
   "metadata": {},
   "source": [
    "where $\\tau$ is the time constant of the filter. Those transfer functions produce the following differential equations:"
   ]
  },
  {
   "cell_type": "markdown",
   "id": "8ef1b7f1",
   "metadata": {},
   "source": [
    "<table>\n",
    "    <tr align=left>\n",
    "        <td>Low-pass filter:</td><td>$\\dot{y}(t)=-\\dfrac{1}{\\tau} \\left(y(t)-x(t)\\right)$</td>\n",
    "    </tr>\n",
    "    <tr>\n",
    "        <td>Highpass filter:</td><td>$\\dot{y}(t)=-\\dfrac{1}{\\tau} y(t) +\\dot{x}(t)$</td>\n",
    "    </tr>\n",
    "</table>"
   ]
  },
  {
   "cell_type": "markdown",
   "id": "b14941c2",
   "metadata": {},
   "source": [
    "The above equation can be discretized by using the backward integration method, substituting:"
   ]
  },
  {
   "cell_type": "markdown",
   "id": "e31805a7",
   "metadata": {},
   "source": [
    "$$\\dot{x}(t)=\\dfrac{x(n\\Delta t)-x((n-1)\\Delta t)}{\\Delta t}$$"
   ]
  },
  {
   "cell_type": "markdown",
   "id": "c1457b0e",
   "metadata": {},
   "source": [
    "where $\\Delta t$ is the sampling period. This brings to the following *difference equations*:"
   ]
  },
  {
   "cell_type": "markdown",
   "id": "46a2e7a6",
   "metadata": {},
   "source": [
    "<table>\n",
    "    <tr align=left>\n",
    "        <td>Low-pass filter:</td><td>$y[n]=\\left(\\dfrac{1}{1+\\alpha}\\right) \\left( x[n] + \\alpha y[n-1] \\right)$</td>\n",
    "    </tr>\n",
    "    <tr>\n",
    "        <td>Highpass filter:</td><td>$y[n]=\\left(\\dfrac{\\alpha}{1+\\alpha}\\right) \\left( x[n] - x[n-1] + y[n-1] \\right) $</td>\n",
    "    </tr>\n",
    "</table>\n",
    "where, $\\alpha=\\tau/\\Delta t$.\n"
   ]
  },
  {
   "cell_type": "markdown",
   "id": "fbfc14bc",
   "metadata": {},
   "source": [
    "After filtering, we can combine the estimates by the accelerometer and gyroscope with:"
   ]
  },
  {
   "cell_type": "markdown",
   "id": "a7550276",
   "metadata": {},
   "source": [
    "$$\\hat{\\phi} = \\phi_{acc} + \\gamma \\cdot \\phi_{gyro}$$"
   ]
  },
  {
   "cell_type": "markdown",
   "id": "95c3f5ea",
   "metadata": {},
   "source": [
    "Complete the following code, to implement a complementary filter, fusing the accelerometer and gyroscope measurements. After the completion, you can try with different values of $\\gamma$ and $\\tau/\\Delta t$."
   ]
  },
  {
   "cell_type": "code",
   "execution_count": null,
   "id": "796fb822",
   "metadata": {
    "scrolled": true
   },
   "outputs": [],
   "source": [
    "gamma = 0.8\n",
    "\n",
    "# initialize the first value of the estimate using only the accelerometer\n",
    "theta[0] = 0\n",
    "phi[0] = 0\n",
    "theta_acc = np.arctan2(accel_data[:,1],accel_data[:,2])\n",
    "phi_acc = np.arctan2(-accel_data[:,0],np.sqrt(accel_data[:,1]**2+accel_data[:,2]**2))\n",
    "\n",
    "theta_acc_f = np.zeros(len(time))\n",
    "phi_acc_f = np.zeros(len(time))\n",
    "theta_gyro = np.zeros(len(time))\n",
    "phi_gyro = np.zeros(len(time))\n",
    "theta_gyro_f = np.zeros(len(time))\n",
    "phi_gyro_f = np.zeros(len(time))\n",
    "\n",
    "accfilter_alpha = 200 # tau/deltat\n",
    "gyrofilter_alpha = 200 # tau/deltat\n",
    "\n",
    "for i in range(1,len(time)):\n",
    "    # low-pass filter accelerometer data\n",
    "    \n",
    "    # COMPLETE THE FOLLOWING CODE\n",
    "    \n",
    "    # first-order backward integration lowpass filter\n",
    "    theta_acc_f[i] =  \n",
    "    phi_acc_f[i] =  \n",
    "    \n",
    "    # integrate gyroscope data\n",
    "    theta_gyro[i] = \n",
    "    phi_gyro[i] = \n",
    "    \n",
    "    # first-order backward integration highpass filter\n",
    "    theta_gyro_f[i] = \n",
    "    phi_gyro_f[i] =  \n",
    "    \n",
    "    \n",
    "    # fusing estimates\n",
    "    theta[i] = \n",
    "    phi[i] = \n",
    "    ######################################################\n",
    "\n",
    "fig, axs = plt.subplots(nrows=2,ncols=1,sharex=True)\n",
    "fig.set_figheight(6)\n",
    "fig.set_figwidth(14)\n",
    "line11, = axs[0].plot(time,theta_acc_f*180/np.pi)\n",
    "line21, = axs[0].plot(time,theta_gyro_f*180/np.pi)\n",
    "line31, = axs[0].plot(time,theta*180/np.pi)\n",
    "line11.set_label('Accelerometer estimate')\n",
    "line21.set_label('Gyroscope estimate')\n",
    "line31.set_label('Fused estimate')\n",
    "axs[0].legend()\n",
    "axs[0].grid()\n",
    "axs[0].set_ylabel(r'Roll angle $\\theta$ [°]')\n",
    "\n",
    "line12, = axs[1].plot(time,phi_acc_f*180/np.pi)\n",
    "line22, = axs[1].plot(time,phi_gyro_f*180/np.pi)\n",
    "line32, = axs[1].plot(time,phi*180/np.pi)\n",
    "line12.set_label('Accelerometer estimate')\n",
    "line22.set_label('Gyroscope estimate')\n",
    "line32.set_label('Fused estimate')\n",
    "axs[1].legend()\n",
    "axs[1].grid()\n",
    "axs[1].set_xlabel('Time')\n",
    "axs[1].set_ylabel(r'Pitch angle $\\phi$ [°]')"
   ]
  },
  {
   "cell_type": "markdown",
   "id": "a7184e26",
   "metadata": {},
   "source": [
    "### Data fusion with quaternions"
   ]
  },
  {
   "cell_type": "markdown",
   "id": "2aa7b97a",
   "metadata": {},
   "source": [
    "A python library providing the implementation of several data fusion algorithms is available at the following link: [https://ahrs.readthedocs.io/en/latest/](https://ahrs.readthedocs.io/en/latest/). It mostly work with quaternions.\n",
    "You can try the following functions:\n",
    "\n",
    "[`ahrs.filters.Tilt`](https://ahrs.readthedocs.io/en/latest/filters/tilt.html): provides an estimation of the orientation quaternion using only accelerometer (and magneometer, in available);\n",
    "\n",
    "[`ahrs.filters.AngularRate`](https://ahrs.readthedocs.io/en/latest/filters/angular.html): provides an estimation of the \n",
    "orientation quaternion using integration of the gyroscope data\n",
    "\n",
    "[`ahrs.filters.Complementary`](https://ahrs.readthedocs.io/en/latest/filters/complementary.html): provides an estimation of the orientation quaternion by a complementary filter\n",
    "\n",
    "[`ahrs.filters.Madgwick`](https://ahrs.readthedocs.io/en/latest/filters/complementary.html): provides an estimation of the orientation quaternion by the Gradient Descent method"
   ]
  }
 ],
 "metadata": {
  "kernelspec": {
   "display_name": "Python 3 (ipykernel)",
   "language": "python",
   "name": "python3"
  },
  "language_info": {
   "codemirror_mode": {
    "name": "ipython",
    "version": 3
   },
   "file_extension": ".py",
   "mimetype": "text/x-python",
   "name": "python",
   "nbconvert_exporter": "python",
   "pygments_lexer": "ipython3",
   "version": "3.8.8"
  }
 },
 "nbformat": 4,
 "nbformat_minor": 5
}
